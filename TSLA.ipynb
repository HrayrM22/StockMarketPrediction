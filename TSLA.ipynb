{
 "cells": [
  {
   "cell_type": "markdown",
   "metadata": {},
   "source": [
    "# Stock Prices Prediction Using Keras Long Term Short Memory"
   ]
  },
  {
   "cell_type": "code",
   "execution_count": 1,
   "metadata": {},
   "outputs": [],
   "source": [
    "# Part 1 - Importing Necessary Libraries\n",
    "\n",
    "import numpy as np\n",
    "import matplotlib.pyplot as plt\n",
    "import pandas as pd\n",
    "import tensorflow as tf\n",
    "import random\n",
    "import os\n",
    "from keras.models import Sequential\n",
    "from keras.layers import Dense\n",
    "from keras.layers import LSTM\n",
    "from keras.layers import Dropout\n",
    "from sklearn.preprocessing import MinMaxScaler"
   ]
  },
  {
   "cell_type": "code",
   "execution_count": 2,
   "metadata": {},
   "outputs": [],
   "source": [
    "# Part 2 - Defining the seeds\n",
    "\n",
    "Seed = '2020'\n",
    "os.environ['PYTHONHASHSEED'] = Seed\n",
    "np.random.seed(int(Seed))\n",
    "random.seed(Seed)\n",
    "tf.random.set_seed(int(Seed))"
   ]
  },
  {
   "cell_type": "code",
   "execution_count": 3,
   "metadata": {},
   "outputs": [],
   "source": [
    "# Reading the dataset\n",
    "dataset_train = pd.read_csv('TSLA.csv')"
   ]
  },
  {
   "cell_type": "code",
   "execution_count": 4,
   "metadata": {},
   "outputs": [],
   "source": [
    "# Taking Open column as the feature for LSTM from the dataset\n",
    "nan_index = np.isnan(dataset_train['Open'].values).argmax(axis=0)"
   ]
  },
  {
   "cell_type": "code",
   "execution_count": 5,
   "metadata": {},
   "outputs": [],
   "source": [
    "dataset_train = dataset_train.loc[:nan_index-1, 'Open']"
   ]
  },
  {
   "cell_type": "code",
   "execution_count": 6,
   "metadata": {},
   "outputs": [],
   "source": [
    "training_set = dataset_train.to_numpy().reshape(-1,1)"
   ]
  },
  {
   "cell_type": "code",
   "execution_count": 8,
   "metadata": {},
   "outputs": [],
   "source": [
    "# Normalization of the values by MinMaxScaler [0,1]\n",
    "sc = MinMaxScaler(feature_range = (0, 1)) \n",
    "training_set_scaled = sc.fit_transform(training_set)\n"
   ]
  },
  {
   "cell_type": "code",
   "execution_count": 9,
   "metadata": {},
   "outputs": [
    {
     "data": {
      "text/plain": [
       "(847, 25, 1)"
      ]
     },
     "execution_count": 9,
     "metadata": {},
     "output_type": "execute_result"
    }
   ],
   "source": [
    "# Part 3 - Building the model\n",
    "# Creating Timesteps and reshaping train dataset into 3D shape to make it a valid input for LSTM algorithm\n",
    "\n",
    "X_train = []\n",
    "y_train = []\n",
    "for i in range(25, len(training_set_scaled)):\n",
    "    X_train.append(training_set_scaled[i-25:i, 0])\n",
    "    y_train.append(training_set_scaled[i, 0])\n",
    "X_train, y_train = np.array(X_train), np.array(y_train)\n",
    "\n",
    "X_train = np.reshape(X_train, (X_train.shape[0], X_train.shape[1], 1))\n",
    "len(X_train[2])\n",
    "X_train.shape"
   ]
  },
  {
   "cell_type": "code",
   "execution_count": 10,
   "metadata": {},
   "outputs": [
    {
     "name": "stdout",
     "output_type": "stream",
     "text": [
      "Epoch 1/150\n",
      "15/15 [==============================] - 10s 139ms/step - loss: 0.0084 - val_loss: 0.0953\n",
      "Epoch 2/150\n",
      "15/15 [==============================] - 1s 39ms/step - loss: 0.0017 - val_loss: 0.0692\n",
      "Epoch 3/150\n",
      "15/15 [==============================] - 1s 38ms/step - loss: 0.0010 - val_loss: 0.0613\n",
      "Epoch 4/150\n",
      "15/15 [==============================] - 1s 41ms/step - loss: 9.8315e-04 - val_loss: 0.0337\n",
      "Epoch 5/150\n",
      "15/15 [==============================] - 1s 38ms/step - loss: 7.0677e-04 - val_loss: 0.0240\n",
      "Epoch 6/150\n",
      "15/15 [==============================] - 1s 43ms/step - loss: 7.4632e-04 - val_loss: 0.0220\n",
      "Epoch 7/150\n",
      "15/15 [==============================] - 1s 39ms/step - loss: 7.3646e-04 - val_loss: 0.0241\n",
      "Epoch 8/150\n",
      "15/15 [==============================] - 1s 38ms/step - loss: 7.6308e-04 - val_loss: 0.0239\n",
      "Epoch 9/150\n",
      "15/15 [==============================] - 1s 39ms/step - loss: 7.0310e-04 - val_loss: 0.0219\n",
      "Epoch 10/150\n",
      "15/15 [==============================] - 1s 39ms/step - loss: 7.0934e-04 - val_loss: 0.0207\n",
      "Epoch 11/150\n",
      "15/15 [==============================] - 1s 38ms/step - loss: 6.7403e-04 - val_loss: 0.0194\n",
      "Epoch 12/150\n",
      "15/15 [==============================] - 1s 39ms/step - loss: 6.4673e-04 - val_loss: 0.0189\n",
      "Epoch 13/150\n",
      "15/15 [==============================] - 1s 37ms/step - loss: 6.3729e-04 - val_loss: 0.0194\n",
      "Epoch 14/150\n",
      "15/15 [==============================] - 1s 39ms/step - loss: 6.4678e-04 - val_loss: 0.0195\n",
      "Epoch 15/150\n",
      "15/15 [==============================] - 1s 42ms/step - loss: 6.5824e-04 - val_loss: 0.0172\n",
      "Epoch 16/150\n",
      "15/15 [==============================] - 1s 41ms/step - loss: 5.7515e-04 - val_loss: 0.0138\n",
      "Epoch 17/150\n",
      "15/15 [==============================] - 1s 37ms/step - loss: 5.5592e-04 - val_loss: 0.0136\n",
      "Epoch 18/150\n",
      "15/15 [==============================] - 1s 40ms/step - loss: 5.5048e-04 - val_loss: 0.0151\n",
      "Epoch 19/150\n",
      "15/15 [==============================] - 1s 41ms/step - loss: 5.8699e-04 - val_loss: 0.0158\n",
      "Epoch 20/150\n",
      "15/15 [==============================] - 1s 39ms/step - loss: 5.8244e-04 - val_loss: 0.0140\n",
      "Epoch 21/150\n",
      "15/15 [==============================] - 1s 40ms/step - loss: 5.4096e-04 - val_loss: 0.0131\n",
      "Epoch 22/150\n",
      "15/15 [==============================] - 1s 37ms/step - loss: 5.2057e-04 - val_loss: 0.0119\n",
      "Epoch 23/150\n",
      "15/15 [==============================] - 1s 39ms/step - loss: 5.2662e-04 - val_loss: 0.0121\n",
      "Epoch 24/150\n",
      "15/15 [==============================] - 1s 41ms/step - loss: 5.0975e-04 - val_loss: 0.0127\n",
      "Epoch 25/150\n",
      "15/15 [==============================] - 1s 39ms/step - loss: 5.0816e-04 - val_loss: 0.0122\n",
      "Epoch 26/150\n",
      "15/15 [==============================] - 1s 40ms/step - loss: 5.1087e-04 - val_loss: 0.0110\n",
      "Epoch 27/150\n",
      "15/15 [==============================] - 1s 36ms/step - loss: 4.6965e-04 - val_loss: 0.0098\n",
      "Epoch 28/150\n",
      "15/15 [==============================] - 1s 39ms/step - loss: 4.3044e-04 - val_loss: 0.0090\n",
      "Epoch 29/150\n",
      "15/15 [==============================] - 0s 30ms/step - loss: 4.2879e-04 - val_loss: 0.0105\n",
      "Epoch 30/150\n",
      "15/15 [==============================] - 0s 25ms/step - loss: 4.5198e-04 - val_loss: 0.0113\n",
      "Epoch 31/150\n",
      "15/15 [==============================] - 0s 24ms/step - loss: 4.6397e-04 - val_loss: 0.0108\n",
      "Epoch 32/150\n",
      "15/15 [==============================] - 0s 24ms/step - loss: 4.4843e-04 - val_loss: 0.0097\n",
      "Epoch 33/150\n",
      "15/15 [==============================] - 0s 23ms/step - loss: 4.2194e-04 - val_loss: 0.0093\n",
      "Epoch 34/150\n",
      "15/15 [==============================] - 0s 30ms/step - loss: 4.2394e-04 - val_loss: 0.0088\n",
      "Epoch 35/150\n",
      "15/15 [==============================] - 1s 39ms/step - loss: 3.7418e-04 - val_loss: 0.0088\n",
      "Epoch 36/150\n",
      "15/15 [==============================] - 0s 32ms/step - loss: 3.6962e-04 - val_loss: 0.0093\n",
      "Epoch 37/150\n",
      "15/15 [==============================] - 0s 23ms/step - loss: 3.8540e-04 - val_loss: 0.0088\n",
      "Epoch 38/150\n",
      "15/15 [==============================] - 0s 23ms/step - loss: 3.5648e-04 - val_loss: 0.0086\n",
      "Epoch 39/150\n",
      "15/15 [==============================] - 0s 22ms/step - loss: 3.7835e-04 - val_loss: 0.0087\n",
      "Epoch 40/150\n",
      "15/15 [==============================] - 0s 23ms/step - loss: 3.5328e-04 - val_loss: 0.0099\n",
      "Epoch 41/150\n",
      "15/15 [==============================] - 0s 27ms/step - loss: 3.6009e-04 - val_loss: 0.0096\n",
      "Epoch 42/150\n",
      "15/15 [==============================] - 1s 40ms/step - loss: 3.5183e-04 - val_loss: 0.0087\n",
      "Epoch 43/150\n",
      "15/15 [==============================] - 1s 40ms/step - loss: 3.4592e-04 - val_loss: 0.0088\n",
      "Epoch 44/150\n",
      "15/15 [==============================] - 1s 38ms/step - loss: 3.5784e-04 - val_loss: 0.0095\n",
      "Epoch 45/150\n",
      "15/15 [==============================] - 1s 40ms/step - loss: 3.5661e-04 - val_loss: 0.0094\n",
      "Epoch 46/150\n",
      "15/15 [==============================] - 1s 40ms/step - loss: 3.6914e-04 - val_loss: 0.0087\n",
      "Epoch 47/150\n",
      "15/15 [==============================] - 1s 36ms/step - loss: 3.5079e-04 - val_loss: 0.0079\n",
      "Epoch 48/150\n",
      "15/15 [==============================] - 1s 39ms/step - loss: 3.2319e-04 - val_loss: 0.0080\n",
      "Epoch 49/150\n",
      "15/15 [==============================] - 1s 40ms/step - loss: 3.1279e-04 - val_loss: 0.0090\n",
      "Epoch 50/150\n",
      "15/15 [==============================] - 1s 39ms/step - loss: 3.1568e-04 - val_loss: 0.0097\n",
      "Epoch 51/150\n",
      "15/15 [==============================] - 1s 38ms/step - loss: 3.3407e-04 - val_loss: 0.0089\n",
      "Epoch 52/150\n",
      "15/15 [==============================] - 1s 37ms/step - loss: 3.1421e-04 - val_loss: 0.0084\n",
      "Epoch 53/150\n",
      "15/15 [==============================] - 0s 32ms/step - loss: 3.0328e-04 - val_loss: 0.0082\n",
      "Epoch 54/150\n",
      "15/15 [==============================] - 0s 25ms/step - loss: 3.0328e-04 - val_loss: 0.0076\n",
      "Epoch 55/150\n",
      "15/15 [==============================] - 0s 24ms/step - loss: 2.9552e-04 - val_loss: 0.0084\n",
      "Epoch 56/150\n",
      "15/15 [==============================] - 0s 22ms/step - loss: 2.9826e-04 - val_loss: 0.0097\n",
      "Epoch 57/150\n",
      "15/15 [==============================] - 0s 25ms/step - loss: 3.0842e-04 - val_loss: 0.0090\n",
      "Epoch 58/150\n",
      "15/15 [==============================] - 0s 32ms/step - loss: 3.1744e-04 - val_loss: 0.0085\n",
      "Epoch 59/150\n",
      "15/15 [==============================] - 1s 39ms/step - loss: 2.8875e-04 - val_loss: 0.0085\n",
      "Epoch 60/150\n",
      "15/15 [==============================] - 1s 43ms/step - loss: 2.6748e-04 - val_loss: 0.0086\n",
      "Epoch 61/150\n",
      "15/15 [==============================] - 1s 38ms/step - loss: 3.0344e-04 - val_loss: 0.0082\n",
      "Epoch 62/150\n",
      "15/15 [==============================] - 1s 40ms/step - loss: 2.8765e-04 - val_loss: 0.0081\n",
      "Epoch 63/150\n",
      "15/15 [==============================] - 1s 38ms/step - loss: 2.6281e-04 - val_loss: 0.0087\n",
      "Epoch 64/150\n",
      "15/15 [==============================] - 1s 39ms/step - loss: 2.8004e-04 - val_loss: 0.0087\n",
      "Epoch 65/150\n",
      "15/15 [==============================] - 1s 41ms/step - loss: 2.7870e-04 - val_loss: 0.0077\n",
      "Epoch 66/150\n",
      "15/15 [==============================] - 1s 40ms/step - loss: 2.5894e-04 - val_loss: 0.0076\n",
      "Epoch 67/150\n",
      "15/15 [==============================] - 1s 39ms/step - loss: 2.6432e-04 - val_loss: 0.0083\n",
      "Epoch 68/150\n",
      "15/15 [==============================] - 1s 38ms/step - loss: 2.8006e-04 - val_loss: 0.0078\n",
      "Epoch 69/150\n",
      "15/15 [==============================] - 1s 42ms/step - loss: 2.6025e-04 - val_loss: 0.0074\n",
      "Epoch 70/150\n",
      "15/15 [==============================] - 1s 39ms/step - loss: 2.4951e-04 - val_loss: 0.0070\n",
      "Epoch 71/150\n",
      "15/15 [==============================] - 1s 39ms/step - loss: 2.4484e-04 - val_loss: 0.0072\n",
      "Epoch 72/150\n",
      "15/15 [==============================] - 1s 39ms/step - loss: 2.6485e-04 - val_loss: 0.0075\n",
      "Epoch 73/150\n",
      "15/15 [==============================] - 1s 39ms/step - loss: 2.6609e-04 - val_loss: 0.0078\n",
      "Epoch 74/150\n",
      "15/15 [==============================] - 1s 39ms/step - loss: 2.7652e-04 - val_loss: 0.0075\n",
      "Epoch 75/150\n",
      "15/15 [==============================] - 1s 38ms/step - loss: 2.4504e-04 - val_loss: 0.0068\n",
      "Epoch 76/150\n",
      "15/15 [==============================] - 1s 36ms/step - loss: 2.5912e-04 - val_loss: 0.0067\n",
      "Epoch 77/150\n",
      "15/15 [==============================] - 1s 37ms/step - loss: 2.6948e-04 - val_loss: 0.0069\n",
      "Epoch 78/150\n",
      "15/15 [==============================] - 1s 42ms/step - loss: 2.5350e-04 - val_loss: 0.0073\n",
      "Epoch 79/150\n"
     ]
    },
    {
     "name": "stdout",
     "output_type": "stream",
     "text": [
      "15/15 [==============================] - 1s 39ms/step - loss: 2.5244e-04 - val_loss: 0.0070\n",
      "Epoch 80/150\n",
      "15/15 [==============================] - 1s 39ms/step - loss: 2.5329e-04 - val_loss: 0.0069\n",
      "Epoch 81/150\n",
      "15/15 [==============================] - 1s 38ms/step - loss: 2.2938e-04 - val_loss: 0.0063\n",
      "Epoch 82/150\n",
      "15/15 [==============================] - 1s 39ms/step - loss: 2.4065e-04 - val_loss: 0.0062\n",
      "Epoch 83/150\n",
      "15/15 [==============================] - 1s 38ms/step - loss: 2.2912e-04 - val_loss: 0.0060\n",
      "Epoch 84/150\n",
      "15/15 [==============================] - 1s 39ms/step - loss: 2.2259e-04 - val_loss: 0.0059\n",
      "Epoch 85/150\n",
      "15/15 [==============================] - 1s 38ms/step - loss: 2.2312e-04 - val_loss: 0.0058\n",
      "Epoch 86/150\n",
      "15/15 [==============================] - 1s 39ms/step - loss: 2.2115e-04 - val_loss: 0.0057\n",
      "Epoch 87/150\n",
      "15/15 [==============================] - 1s 41ms/step - loss: 2.3302e-04 - val_loss: 0.0062\n",
      "Epoch 88/150\n",
      "15/15 [==============================] - 1s 42ms/step - loss: 2.3943e-04 - val_loss: 0.0065\n",
      "Epoch 89/150\n",
      "15/15 [==============================] - 1s 38ms/step - loss: 2.3778e-04 - val_loss: 0.0066\n",
      "Epoch 90/150\n",
      "15/15 [==============================] - 1s 38ms/step - loss: 2.3285e-04 - val_loss: 0.0059\n",
      "Epoch 91/150\n",
      "15/15 [==============================] - 1s 40ms/step - loss: 2.2052e-04 - val_loss: 0.0054\n",
      "Epoch 92/150\n",
      "15/15 [==============================] - 1s 39ms/step - loss: 2.0611e-04 - val_loss: 0.0053\n",
      "Epoch 93/150\n",
      "15/15 [==============================] - 1s 39ms/step - loss: 2.0786e-04 - val_loss: 0.0053\n",
      "Epoch 94/150\n",
      "15/15 [==============================] - 1s 41ms/step - loss: 2.1162e-04 - val_loss: 0.0056\n",
      "Epoch 95/150\n",
      "15/15 [==============================] - 1s 42ms/step - loss: 2.2348e-04 - val_loss: 0.0056\n",
      "Epoch 96/150\n",
      "15/15 [==============================] - 1s 42ms/step - loss: 2.0957e-04 - val_loss: 0.0052\n",
      "Epoch 97/150\n",
      "15/15 [==============================] - 1s 38ms/step - loss: 1.9872e-04 - val_loss: 0.0048\n",
      "Epoch 98/150\n",
      "15/15 [==============================] - 1s 38ms/step - loss: 1.9689e-04 - val_loss: 0.0051\n",
      "Epoch 99/150\n",
      "15/15 [==============================] - 1s 40ms/step - loss: 1.8739e-04 - val_loss: 0.0048\n",
      "Epoch 100/150\n",
      "15/15 [==============================] - 1s 41ms/step - loss: 1.9533e-04 - val_loss: 0.0051\n",
      "Epoch 101/150\n",
      "15/15 [==============================] - 1s 40ms/step - loss: 2.0951e-04 - val_loss: 0.0059\n",
      "Epoch 102/150\n",
      "15/15 [==============================] - 1s 40ms/step - loss: 2.0982e-04 - val_loss: 0.0061\n",
      "Epoch 103/150\n",
      "15/15 [==============================] - 1s 39ms/step - loss: 2.1788e-04 - val_loss: 0.0058\n",
      "Epoch 104/150\n",
      "15/15 [==============================] - 1s 39ms/step - loss: 2.2366e-04 - val_loss: 0.0056\n",
      "Epoch 105/150\n",
      "15/15 [==============================] - 1s 38ms/step - loss: 2.1170e-04 - val_loss: 0.0050\n",
      "Epoch 106/150\n",
      "15/15 [==============================] - 1s 37ms/step - loss: 1.9625e-04 - val_loss: 0.0045\n",
      "Epoch 107/150\n",
      "15/15 [==============================] - 1s 40ms/step - loss: 1.8989e-04 - val_loss: 0.0048\n",
      "Epoch 108/150\n",
      "15/15 [==============================] - 1s 40ms/step - loss: 1.8578e-04 - val_loss: 0.0055\n",
      "Epoch 109/150\n",
      "15/15 [==============================] - 1s 38ms/step - loss: 2.0376e-04 - val_loss: 0.0052\n",
      "Epoch 110/150\n",
      "15/15 [==============================] - 1s 39ms/step - loss: 2.1087e-04 - val_loss: 0.0048\n",
      "Epoch 111/150\n",
      "15/15 [==============================] - 1s 38ms/step - loss: 2.0203e-04 - val_loss: 0.0048\n",
      "Epoch 112/150\n",
      "15/15 [==============================] - 1s 34ms/step - loss: 1.9383e-04 - val_loss: 0.0052\n",
      "Epoch 113/150\n",
      "15/15 [==============================] - 0s 24ms/step - loss: 2.0534e-04 - val_loss: 0.0056\n",
      "Epoch 114/150\n",
      "15/15 [==============================] - 0s 23ms/step - loss: 1.9872e-04 - val_loss: 0.0051\n",
      "Epoch 115/150\n",
      "15/15 [==============================] - 0s 25ms/step - loss: 2.0078e-04 - val_loss: 0.0043\n",
      "Epoch 116/150\n",
      "15/15 [==============================] - 0s 22ms/step - loss: 1.8529e-04 - val_loss: 0.0042\n",
      "Epoch 117/150\n",
      "15/15 [==============================] - 0s 25ms/step - loss: 1.8479e-04 - val_loss: 0.0045\n",
      "Epoch 118/150\n",
      "15/15 [==============================] - 1s 38ms/step - loss: 1.9015e-04 - val_loss: 0.0045\n",
      "Epoch 119/150\n",
      "15/15 [==============================] - 1s 42ms/step - loss: 1.8705e-04 - val_loss: 0.0046\n",
      "Epoch 120/150\n",
      "15/15 [==============================] - 1s 39ms/step - loss: 1.8664e-04 - val_loss: 0.0048\n",
      "Epoch 121/150\n",
      "15/15 [==============================] - 1s 38ms/step - loss: 1.8790e-04 - val_loss: 0.0043\n",
      "Epoch 122/150\n",
      "15/15 [==============================] - 1s 37ms/step - loss: 1.8073e-04 - val_loss: 0.0044\n",
      "Epoch 123/150\n",
      "15/15 [==============================] - 1s 39ms/step - loss: 1.8188e-04 - val_loss: 0.0047\n",
      "Epoch 124/150\n",
      "15/15 [==============================] - 1s 40ms/step - loss: 1.9191e-04 - val_loss: 0.0045\n",
      "Epoch 125/150\n",
      "15/15 [==============================] - 1s 37ms/step - loss: 1.8623e-04 - val_loss: 0.0047\n",
      "Epoch 126/150\n",
      "15/15 [==============================] - 1s 39ms/step - loss: 1.8765e-04 - val_loss: 0.0047\n",
      "Epoch 127/150\n",
      "15/15 [==============================] - 1s 39ms/step - loss: 1.9659e-04 - val_loss: 0.0042\n",
      "Epoch 128/150\n",
      "15/15 [==============================] - 1s 42ms/step - loss: 1.8701e-04 - val_loss: 0.0041\n",
      "Epoch 129/150\n",
      "15/15 [==============================] - 1s 40ms/step - loss: 1.7330e-04 - val_loss: 0.0042\n",
      "Epoch 130/150\n",
      "15/15 [==============================] - 1s 36ms/step - loss: 1.7507e-04 - val_loss: 0.0043\n",
      "Epoch 131/150\n",
      "15/15 [==============================] - 1s 39ms/step - loss: 1.9009e-04 - val_loss: 0.0040\n",
      "Epoch 132/150\n",
      "15/15 [==============================] - 1s 41ms/step - loss: 1.7739e-04 - val_loss: 0.0047\n",
      "Epoch 133/150\n",
      "15/15 [==============================] - 1s 38ms/step - loss: 1.8551e-04 - val_loss: 0.0047\n",
      "Epoch 134/150\n",
      "15/15 [==============================] - 1s 40ms/step - loss: 1.8021e-04 - val_loss: 0.0042\n",
      "Epoch 135/150\n",
      "15/15 [==============================] - 1s 38ms/step - loss: 1.8673e-04 - val_loss: 0.0040\n",
      "Epoch 136/150\n",
      "15/15 [==============================] - 1s 40ms/step - loss: 1.7614e-04 - val_loss: 0.0043\n",
      "Epoch 137/150\n",
      "15/15 [==============================] - 1s 40ms/step - loss: 1.7326e-04 - val_loss: 0.0043\n",
      "Epoch 138/150\n",
      "15/15 [==============================] - 1s 39ms/step - loss: 1.6831e-04 - val_loss: 0.0039\n",
      "Epoch 139/150\n",
      "15/15 [==============================] - 1s 39ms/step - loss: 1.6271e-04 - val_loss: 0.0037\n",
      "Epoch 140/150\n",
      "15/15 [==============================] - 1s 37ms/step - loss: 1.6296e-04 - val_loss: 0.0037\n",
      "Epoch 141/150\n",
      "15/15 [==============================] - 1s 43ms/step - loss: 1.6250e-04 - val_loss: 0.0039\n",
      "Epoch 142/150\n",
      "15/15 [==============================] - 1s 39ms/step - loss: 1.6642e-04 - val_loss: 0.0043\n",
      "Epoch 143/150\n",
      "15/15 [==============================] - 1s 39ms/step - loss: 1.8253e-04 - val_loss: 0.0042\n",
      "Epoch 144/150\n",
      "15/15 [==============================] - 1s 39ms/step - loss: 1.8673e-04 - val_loss: 0.0042\n",
      "Epoch 145/150\n",
      "15/15 [==============================] - 1s 40ms/step - loss: 1.7503e-04 - val_loss: 0.0042\n",
      "Epoch 146/150\n",
      "15/15 [==============================] - 1s 41ms/step - loss: 1.7287e-04 - val_loss: 0.0039\n",
      "Epoch 147/150\n",
      "15/15 [==============================] - 1s 39ms/step - loss: 1.7349e-04 - val_loss: 0.0037\n",
      "Epoch 148/150\n",
      "15/15 [==============================] - 1s 38ms/step - loss: 1.7209e-04 - val_loss: 0.0038\n",
      "Epoch 149/150\n",
      "15/15 [==============================] - 1s 37ms/step - loss: 1.5706e-04 - val_loss: 0.0039\n",
      "Epoch 150/150\n",
      "15/15 [==============================] - 1s 43ms/step - loss: 1.6407e-04 - val_loss: 0.0040\n"
     ]
    },
    {
     "data": {
      "text/plain": [
       "<keras.callbacks.History at 0x2161e734040>"
      ]
     },
     "execution_count": 10,
     "metadata": {},
     "output_type": "execute_result"
    }
   ],
   "source": [
    "# Initialising the Sequential Model\n",
    "model = Sequential()\n",
    "\n",
    "# First hidden layer and dropout regularization, input layer is passed automatically by input_shape parameter \n",
    "model.add(LSTM(units = 50, return_sequences = True, input_shape = (X_train.shape[1], 1)))\n",
    "model.add(Dropout(0.05))\n",
    "\n",
    "# Second hidden layer and dropout regularization \n",
    "model.add(LSTM(units = 50))\n",
    "model.add(Dropout(0.05))\n",
    "\n",
    "# The output layer\n",
    "model.add(Dense(units = 1)) \n",
    "\n",
    "# Compiling the Recurrent Neural Network\n",
    "model.compile(optimizer = 'adam', loss = 'mean_squared_error')\n",
    "\n",
    "# Fitting the model to the training dataset\n",
    "model.fit(X_train, y_train, epochs = 150, batch_size = 48, validation_split=0.15, shuffle = False)\n",
    "\n"
   ]
  },
  {
   "cell_type": "code",
   "execution_count": 52,
   "metadata": {},
   "outputs": [],
   "source": [
    "# Part 4 - Predicting the test dataset (comes after training set)\n",
    "\n",
    "# Getting the real stock price of the period of test dataset\n",
    "\n",
    "dataset_test = pd.read_csv('Test.csv')\n",
    "real_stock_price = dataset_test.loc[:, 'Open'].values"
   ]
  },
  {
   "cell_type": "code",
   "execution_count": 53,
   "metadata": {},
   "outputs": [],
   "source": [
    "# Getting the predicted stock price of the period\n",
    "\n",
    "dataset_total = pd.concat((dataset_train, dataset_test.loc[:, 'Open']), axis = 0)\n",
    "inputs = dataset_total[len(dataset_total) - len(dataset_test) - 25:].values\n",
    "inputs = inputs.reshape(-1,1)\n",
    "inputs = sc.transform(inputs)"
   ]
  },
  {
   "cell_type": "code",
   "execution_count": 54,
   "metadata": {},
   "outputs": [],
   "source": [
    "# Creating Timesteps and reshaping test dataset into 3D shape to make it a valid input for LSTM algorithm\n",
    "\n",
    "X_test = []\n",
    "\n",
    "for i in range(25, len(inputs)):\n",
    "    X_test.append(inputs[i-25:i, 0])\n",
    "X_test = np.array(X_test)\n",
    "X_test = np.reshape(X_test, (X_test.shape[0], X_test.shape[1], 1))"
   ]
  },
  {
   "cell_type": "code",
   "execution_count": 55,
   "metadata": {},
   "outputs": [
    {
     "name": "stdout",
     "output_type": "stream",
     "text": [
      "7/7 [==============================] - 0s 13ms/step\n"
     ]
    }
   ],
   "source": [
    "# Predicting Test dataset's stock values\n",
    "\n",
    "predicted_stock_price = model.predict(X_test)\n",
    "predicted_stock_price = sc.inverse_transform(predicted_stock_price)"
   ]
  },
  {
   "cell_type": "code",
   "execution_count": 56,
   "metadata": {},
   "outputs": [
    {
     "data": {
      "image/png": "[encoded data removed]",
      "text/plain": [
       "<Figure size 432x288 with 1 Axes>"
      ]
     },
     "metadata": {
      "needs_background": "light"
     },
     "output_type": "display_data"
    }
   ],
   "source": [
    "# Visualizing the results\n",
    "\n",
    "plt.plot(real_stock_price, color = 'red', label = 'Real TESLA Stock Price')\n",
    "plt.plot(predicted_stock_price, color = 'blue', label = 'Predicted TESLA Stock Price')\n",
    "plt.title('TESLA Stock Price Prediction')\n",
    "plt.xlabel('Days')\n",
    "plt.ylabel('TESLA Stock Price')\n",
    "plt.legend()\n",
    "plt.show()"
   ]
  },
  {
   "cell_type": "code",
   "execution_count": 57,
   "metadata": {},
   "outputs": [
    {
     "name": "stdout",
     "output_type": "stream",
     "text": [
      "Mean percentage of error +-4.784524306772125%\n"
     ]
    }
   ],
   "source": [
    "# Part 4 - Evaluating the Model (Computing the mean percentage of error)\n",
    "\n",
    "dataFrame = pd.DataFrame(columns = ['real', 'predicted', 'absDiff', 'PercDiff'])\n",
    "\n",
    "dataFrame['real'] = real_stock_price\n",
    "dataFrame['predicted'] = [i for j in predicted_stock_price for i in j]\n",
    "dataFrame['absDiff'] = abs(dataFrame['real'] - dataFrame['predicted'])\n",
    "dataFrame['PercDiff'] = dataFrame['absDiff']*100/dataFrame['real']\n",
    "\n",
    "print(\"Mean percentage of error +-\" + str(dataFrame['PercDiff'].mean())+\"%\")\n"
   ]
  },
  {
   "cell_type": "code",
   "execution_count": 64,
   "metadata": {},
   "outputs": [],
   "source": [
    "test_data = dataset_test.loc[len(dataset_test)-25:, 'Open']"
   ]
  },
  {
   "cell_type": "code",
   "execution_count": 75,
   "metadata": {},
   "outputs": [
    {
     "data": {
      "text/plain": [
       "array([[677.380005],\n",
       "       [677.77002 ],\n",
       "       [685.700012],\n",
       "       [712.700012],\n",
       "       [770.700012],\n",
       "       [743.099976],\n",
       "       [728.650024],\n",
       "       [719.599976],\n",
       "       [717.419983],\n",
       "       [704.77002 ],\n",
       "       [741.5     ],\n",
       "       [719.799988],\n",
       "       [741.      ],\n",
       "       [717.960022],\n",
       "       [696.409973],\n",
       "       [699.51001 ],\n",
       "       [667.590027],\n",
       "       [703.799988],\n",
       "       [678.940002],\n",
       "       [681.059998],\n",
       "       [680.76001 ],\n",
       "       [665.799988],\n",
       "       [664.900024],\n",
       "       [599.23999 ],\n",
       "       [602.48999 ]])"
      ]
     },
     "execution_count": 75,
     "metadata": {},
     "output_type": "execute_result"
    }
   ],
   "source": [
    "x_input = test_data.to_numpy().reshape(-1,1)\n",
    "x_input"
   ]
  },
  {
   "cell_type": "code",
   "execution_count": 76,
   "metadata": {},
   "outputs": [
    {
     "name": "stdout",
     "output_type": "stream",
     "text": [
      " \n"
     ]
    },
    {
     "data": {
      "text/plain": [
       "(200.0, 700.0)"
      ]
     },
     "execution_count": 76,
     "metadata": {},
     "output_type": "execute_result"
    },
    {
     "data": {
      "image/png": "[encoded data removed]",
      "text/plain": [
       "<Figure size 432x288 with 1 Axes>"
      ]
     },
     "metadata": {
      "needs_background": "light"
     },
     "output_type": "display_data"
    }
   ],
   "source": [
    "#PART 5 - PREDICTING FUTURE VALUE\n",
    "\n",
    "temp_input = list(x_input)\n",
    "temp_input = temp_input[0].tolist()\n",
    "temp_input\n",
    "\n",
    "output=[]\n",
    "n_steps=25\n",
    "i=0\n",
    "while(i<30):\n",
    "\n",
    "    if(len(temp_input)>25):\n",
    "        x_input= np.array(temp_input[1:])\n",
    "        x_input= x_input.reshape(1,-1)\n",
    "        x_input = x_input.reshape((1, n_steps, 1))\n",
    "        yhat = model.predict(x_input, verbose=0)\n",
    "        temp_input.extend(yhat[0].tolist())\n",
    "        temp_input=temp_input[1:]\n",
    "        output.extend(yhat.tolist())\n",
    "        i=i+1\n",
    "    else:\n",
    "        x_input = x_input.reshape((1, n_steps,1))\n",
    "        yhat = model.predict(x_input, verbose=0)\n",
    "        temp_input.extend(yhat[0].tolist())\n",
    "        output.extend(yhat.tolist())\n",
    "        i=i+1\n",
    "\n",
    "print(\" \")\n",
    "day_new=np.arange(1,26)\n",
    "day_pred=np.arange(26,56)\n",
    "\n",
    "\n",
    "\n",
    "plt.plot(day_new,sc.inverse_transform(test_data.to_numpy().reshape(-1,1)))\n",
    "plt.plot(day_pred,sc.inverse_transform(output))\n",
    "\n",
    "plt.ylim([200,700])\n",
    "\n",
    "\n"
   ]
  },
  {
   "cell_type": "code",
   "execution_count": 72,
   "metadata": {},
   "outputs": [
    {
     "data": {
      "text/plain": [
       "192    677.380005\n",
       "193    677.770020\n",
       "194    685.700012\n",
       "195    712.700012\n",
       "196    770.700012\n",
       "197    743.099976\n",
       "198    728.650024\n",
       "199    719.599976\n",
       "200    717.419983\n",
       "201    704.770020\n",
       "202    741.500000\n",
       "203    719.799988\n",
       "204    741.000000\n",
       "205    717.960022\n",
       "206    696.409973\n",
       "207    699.510010\n",
       "208    667.590027\n",
       "209    703.799988\n",
       "210    678.940002\n",
       "211    681.059998\n",
       "212    680.760010\n",
       "213    665.799988\n",
       "214    664.900024\n",
       "215    599.239990\n",
       "216    602.489990\n",
       "Name: Open, dtype: float64"
      ]
     },
     "execution_count": 72,
     "metadata": {},
     "output_type": "execute_result"
    }
   ],
   "source": [
    "test_data"
   ]
  },
  {
   "cell_type": "code",
   "execution_count": 48,
   "metadata": {},
   "outputs": [
    {
     "data": {
      "text/plain": [
       "192    677.380005\n",
       "193    677.770020\n",
       "194    685.700012\n",
       "195    712.700012\n",
       "196    770.700012\n",
       "197    743.099976\n",
       "198    728.650024\n",
       "199    719.599976\n",
       "200    717.419983\n",
       "201    704.770020\n",
       "202    741.500000\n",
       "203    719.799988\n",
       "204    741.000000\n",
       "205    717.960022\n",
       "206    696.409973\n",
       "207    699.510010\n",
       "208    667.590027\n",
       "209    703.799988\n",
       "210    678.940002\n",
       "211    681.059998\n",
       "212    680.760010\n",
       "213    665.799988\n",
       "214    664.900024\n",
       "215    599.239990\n",
       "216    602.489990\n",
       "Name: Open, dtype: float64"
      ]
     },
     "execution_count": 48,
     "metadata": {},
     "output_type": "execute_result"
    }
   ],
   "source": [
    "dataset_test[:192]"
   ]
  },
  {
   "cell_type": "code",
   "execution_count": null,
   "metadata": {},
   "outputs": [],
   "source": []
  }
 ],
 "metadata": {
  "kernelspec": {
   "display_name": "Python 3 (ipykernel)",
   "language": "python",
   "name": "python3"
  },
  "language_info": {
   "codemirror_mode": {
    "name": "ipython",
    "version": 3
   },
   "file_extension": ".py",
   "mimetype": "text/x-python",
   "name": "python",
   "nbconvert_exporter": "python",
   "pygments_lexer": "ipython3",
   "version": "3.10.5"
  }
 },
 "nbformat": 4,
 "nbformat_minor": 2
}
